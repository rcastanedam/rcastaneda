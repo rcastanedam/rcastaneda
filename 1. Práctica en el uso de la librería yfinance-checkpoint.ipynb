#1
tesla = yf.Ticker("TSLA")

#2
tesla_data = tesla.history(period="max")

#3
tesla_data.reset_index(inplace=True)
tesla_data.head()
